{
 "cells": [
  {
   "cell_type": "code",
   "execution_count": 1,
   "id": "de4afd0d",
   "metadata": {},
   "outputs": [],
   "source": [
    "import pandas as pd\n",
    "import glob\n",
    "import json\n",
    "import re\n",
    "import os"
   ]
  },
  {
   "cell_type": "code",
   "execution_count": 2,
   "id": "c33e74dd",
   "metadata": {},
   "outputs": [],
   "source": [
    "file_path_json = '../schemas.json'"
   ]
  },
  {
   "cell_type": "code",
   "execution_count": 3,
   "id": "02b411f3",
   "metadata": {},
   "outputs": [
    {
     "data": {
      "text/plain": [
       "dict_keys(['departments', 'categories', 'orders', 'products', 'customers', 'order_items'])"
      ]
     },
     "execution_count": 3,
     "metadata": {},
     "output_type": "execute_result"
    }
   ],
   "source": [
    "schemas = json.load(open(file_path_json, 'r'))\n",
    "schemas.keys()"
   ]
  },
  {
   "cell_type": "code",
   "execution_count": 4,
   "id": "bc1e72e8",
   "metadata": {},
   "outputs": [],
   "source": [
    "def get_column_names (schemas, ds_name, sortir = 'column_name') :\n",
    "    column_detail = schemas[ds_name]\n",
    "    column = sorted(column_detail, key=lambda col : col[sortir])\n",
    "    return [col[sortir] for col in column]"
   ]
  },
  {
   "cell_type": "code",
   "execution_count": 5,
   "id": "aeab714c",
   "metadata": {},
   "outputs": [
    {
     "data": {
      "text/plain": [
       "['order_customer_id', 'order_date', 'order_id', 'order_status']"
      ]
     },
     "execution_count": 5,
     "metadata": {},
     "output_type": "execute_result"
    }
   ],
   "source": [
    "get_column_names(schemas, 'orders')"
   ]
  },
  {
   "cell_type": "code",
   "execution_count": 6,
   "id": "2bf79247",
   "metadata": {},
   "outputs": [],
   "source": [
    "def read_csv(file , schemas):\n",
    "    file_path_list = re.split(r'[\\\\/]', file)\n",
    "    ds_name =file_path_list[-2]\n",
    "    file_name = file_path_list[-1]\n",
    "    column = get_column_names(schemas, ds_name)\n",
    "    df = pd.read_csv(file, names=column)\n",
    "    return df"
   ]
  },
  {
   "cell_type": "code",
   "execution_count": 7,
   "id": "01fc5676",
   "metadata": {},
   "outputs": [],
   "source": [
    "tgt_base_dir = '../retail_db_json'\n",
    "def to_json(df, tgt_base_dir, ds_name, file_name ) :\n",
    "    json_path_list = f'{tgt_base_dir}/{ds_name}/{file_name}'\n",
    "    os.makedirs(f'{tgt_base_dir}/{ds_name}', exist_ok=True)\n",
    "    df.to_json(\n",
    "        json_path_list,\n",
    "        orient='records',\n",
    "        lines = True\n",
    "    )"
   ]
  },
  {
   "cell_type": "code",
   "execution_count": 8,
   "id": "9b1e810e",
   "metadata": {},
   "outputs": [],
   "source": [
    "def file_converter(ds_name):\n",
    "    src_file_path = '..'\n",
    "    tgt_base_dir = '../retail_db_json'\n",
    "    schemas = json.load(open(f'{src_file_path}/schemas.json', 'r'))\n",
    "    files = glob.glob(f'{src_file_path}/{ds_name}/part-*')\n",
    "    for file in files :\n",
    "        print(f'Processing{file}')\n",
    "        df = read_csv(file, schemas)\n",
    "        file_name = re.split(r'[\\\\/]', file)[-1]\n",
    "        to_json(df, tgt_base_dir, ds_name, file_name)"
   ]
  },
  {
   "cell_type": "code",
   "execution_count": null,
   "id": "dc58e5cf",
   "metadata": {},
   "outputs": [],
   "source": [
    "def process_file(ds_names=None) :\n",
    "    src_base_dir = '..'\n",
    "    tgt_base_dir = '../retail_db_json'\n",
    "    schemas = json.load(open(f'{src_base_dir}/schemas.json'))\n",
    "    if not ds_names : #jika fungction kosong maka eksekusi semua schemas.keys()\n",
    "        ds_names = schemas.keys()\n",
    "    for ds_name in ds_names :\n",
    "        print(f'Processing{ds_name}')\n",
    "        file_converter(ds_name)"
   ]
  },
  {
   "cell_type": "code",
   "execution_count": 17,
   "id": "e11b999c",
   "metadata": {},
   "outputs": [
    {
     "name": "stdout",
     "output_type": "stream",
     "text": [
      "Processingdepartments\n",
      "Processing../departments\\part-00000\n",
      "Processingcategories\n",
      "Processing../categories\\part-00000\n",
      "Processingorders\n",
      "Processing../orders\\part-00000\n",
      "Processingproducts\n",
      "Processing../products\\part-00000\n",
      "Processingcustomers\n",
      "Processing../customers\\part-00000\n",
      "Processingorder_items\n",
      "Processing../order_items\\part-00000\n"
     ]
    }
   ],
   "source": [
    "process_file()"
   ]
  },
  {
   "cell_type": "code",
   "execution_count": 11,
   "id": "568d52a5",
   "metadata": {},
   "outputs": [
    {
     "data": {
      "text/plain": [
       "{'departments': [{'column_name': 'department_id',\n",
       "   'data_type': 'integer',\n",
       "   'column_position': 1},\n",
       "  {'column_name': 'department_name',\n",
       "   'data_type': 'string',\n",
       "   'column_position': 2}],\n",
       " 'categories': [{'column_name': 'category_id',\n",
       "   'data_type': 'integer',\n",
       "   'column_position': 1},\n",
       "  {'column_name': 'category_department_id',\n",
       "   'data_type': 'integer',\n",
       "   'column_position': 2},\n",
       "  {'column_name': 'category_name',\n",
       "   'data_type': 'string',\n",
       "   'column_position': 3}],\n",
       " 'orders': [{'column_name': 'order_id',\n",
       "   'data_type': 'integer',\n",
       "   'column_position': 1},\n",
       "  {'column_name': 'order_date', 'data_type': 'string', 'column_position': 2},\n",
       "  {'column_name': 'order_customer_id',\n",
       "   'data_type': 'timestamp',\n",
       "   'column_position': 3},\n",
       "  {'column_name': 'order_status',\n",
       "   'data_type': 'string',\n",
       "   'column_position': 4}],\n",
       " 'products': [{'column_name': 'product_id',\n",
       "   'data_type': 'integer',\n",
       "   'column_position': 1},\n",
       "  {'column_name': 'product_cateogry_id',\n",
       "   'data_type': 'integer',\n",
       "   'column_position': 2},\n",
       "  {'column_name': 'product_name', 'data_type': '', 'column_position': 3},\n",
       "  {'column_name': 'product_description',\n",
       "   'data_type': 'string',\n",
       "   'column_position': 4},\n",
       "  {'column_name': 'product_price', 'data_type': 'float', 'column_position': 5},\n",
       "  {'column_name': 'product_image',\n",
       "   'data_type': 'string',\n",
       "   'column_position': 6}],\n",
       " 'customers': [{'column_name': 'customer_id',\n",
       "   'data_type': 'integer',\n",
       "   'column_position': 1},\n",
       "  {'column_name': 'customer_fname',\n",
       "   'data_type': 'string',\n",
       "   'column_position': 2},\n",
       "  {'column_name': 'customer_lname',\n",
       "   'data_type': 'string',\n",
       "   'column_position': 3},\n",
       "  {'column_name': 'customer_email',\n",
       "   'data_type': 'string',\n",
       "   'column_position': 4},\n",
       "  {'column_name': 'customer_password',\n",
       "   'data_type': 'string',\n",
       "   'column_position': 5},\n",
       "  {'column_name': 'customer_street',\n",
       "   'data_type': 'string',\n",
       "   'column_position': 6},\n",
       "  {'column_name': 'customer_city',\n",
       "   'data_type': 'string',\n",
       "   'column_position': 7},\n",
       "  {'column_name': 'customer_state',\n",
       "   'data_type': 'string',\n",
       "   'column_position': 8},\n",
       "  {'column_name': 'customer_zipcode',\n",
       "   'data_type': 'integer',\n",
       "   'column_position': 9}],\n",
       " 'order_items': [{'column_name': 'order_item_id',\n",
       "   'data_type': 'integer',\n",
       "   'column_position': 1},\n",
       "  {'column_name': 'order_item_order_id',\n",
       "   'data_type': 'integer',\n",
       "   'column_position': 2},\n",
       "  {'column_name': 'order_item_product_id',\n",
       "   'data_type': 'integer',\n",
       "   'column_position': 3},\n",
       "  {'column_name': 'order_item_quantity',\n",
       "   'data_type': 'integer',\n",
       "   'column_position': 4},\n",
       "  {'column_name': 'order_item_subtotal',\n",
       "   'data_type': 'float',\n",
       "   'column_position': 5},\n",
       "  {'column_name': 'order_item_product_price',\n",
       "   'data_type': 'float',\n",
       "   'column_position': 6}]}"
      ]
     },
     "execution_count": 11,
     "metadata": {},
     "output_type": "execute_result"
    }
   ],
   "source": [
    "schemas = json.load(open('../schemas.json'))\n",
    "schemas"
   ]
  },
  {
   "cell_type": "code",
   "execution_count": 10,
   "id": "2595ee3c",
   "metadata": {},
   "outputs": [
    {
     "name": "stdout",
     "output_type": "stream",
     "text": [
      "Processing../orders\\part-00000\n"
     ]
    }
   ],
   "source": [
    "ds_name = 'orders'\n",
    "file_converter(ds_name)"
   ]
  }
 ],
 "metadata": {
  "kernelspec": {
   "display_name": "pr-venv",
   "language": "python",
   "name": "python3"
  },
  "language_info": {
   "codemirror_mode": {
    "name": "ipython",
    "version": 3
   },
   "file_extension": ".py",
   "mimetype": "text/x-python",
   "name": "python",
   "nbconvert_exporter": "python",
   "pygments_lexer": "ipython3",
   "version": "3.10.10"
  }
 },
 "nbformat": 4,
 "nbformat_minor": 5
}
